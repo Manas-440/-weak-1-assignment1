print('enter dividend')
a=int(input())
print('enter divisor')
b=int(input())
i=0
d=0
if a>b:
    if a%b==0:
        print(f'it is divisible by',b)
        while i<a+1:
                   i=i+1
                   if a%i==0:
                       print(i)
                       d=d+1
        print('no of time divide',d)
    else:
       print("it is not divisible",b)
else:
    print('not possible')        