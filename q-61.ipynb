{
 "cells": [
  {
   "cell_type": "code",
   "execution_count": null,
   "id": "dde4bfa8-06b6-4164-8d3d-6d8594228429",
   "metadata": {},
   "outputs": [],
   "source": [
    "print(\"enter 25 number\")\n",
    "a=list()\n",
    "for i in range(25):\n",
    "    b=int(input())\n",
    "    a.append(b)\n",
    "    if a[i]%3==0:\n",
    "        print(\"it is divisible by\",3)\n",
    "    else:\n",
    "        print(\"it is not divisible by 3\")\n",
    "print(a)"
   ]
  },
  {
   "cell_type": "markdown",
   "id": "65220584-a301-4c84-862b-7cb73be59e05",
   "metadata": {},
   "source": [
    "Mutable vs Immutable\n",
    "Mutable is nothing but all the data or isnstuction are changed .\n",
    "ex- list,dictionary  these are mutable data type .\n",
    "Immutable data type- it is nothing but it can not be changed .\n",
    "such as string dta type and tuple ."
   ]
  },
  {
   "cell_type": "code",
   "execution_count": 8,
   "id": "443b2472-445e-4b8a-88ea-ec4e8c7f50d0",
   "metadata": {},
   "outputs": [
    {
     "data": {
      "text/plain": [
       "str"
      ]
     },
     "execution_count": 8,
     "metadata": {},
     "output_type": "execute_result"
    }
   ],
   "source": [
    "a=\"raja\"\n",
    "type(a)"
   ]
  },
  {
   "cell_type": "code",
   "execution_count": 6,
   "id": "0fd8f8e5-77de-4438-8542-012d4f80b073",
   "metadata": {},
   "outputs": [
    {
     "data": {
      "text/plain": [
       "'a'"
      ]
     },
     "execution_count": 6,
     "metadata": {},
     "output_type": "execute_result"
    }
   ],
   "source": [
    "a[3]"
   ]
  },
  {
   "cell_type": "code",
   "execution_count": 9,
   "id": "309d124a-c462-481f-9377-3df6eaa0f904",
   "metadata": {},
   "outputs": [
    {
     "ename": "TypeError",
     "evalue": "'str' object does not support item assignment",
     "output_type": "error",
     "traceback": [
      "\u001b[0;31m---------------------------------------------------------------------------\u001b[0m",
      "\u001b[0;31mTypeError\u001b[0m                                 Traceback (most recent call last)",
      "Cell \u001b[0;32mIn[9], line 1\u001b[0m\n\u001b[0;32m----> 1\u001b[0m \u001b[43ma\u001b[49m\u001b[43m[\u001b[49m\u001b[38;5;241;43m3\u001b[39;49m\u001b[43m]\u001b[49m\u001b[38;5;241m=\u001b[39m\u001b[38;5;124m'\u001b[39m\u001b[38;5;124mx\u001b[39m\u001b[38;5;124m'\u001b[39m\n",
      "\u001b[0;31mTypeError\u001b[0m: 'str' object does not support item assignment"
     ]
    }
   ],
   "source": [
    "a[3]='x'"
   ]
  },
  {
   "cell_type": "code",
   "execution_count": 11,
   "id": "d6b1e8fd-7352-4265-b743-60b664ae73e9",
   "metadata": {},
   "outputs": [
    {
     "name": "stdout",
     "output_type": "stream",
     "text": [
      "[2, 5, 6, 9]\n"
     ]
    }
   ],
   "source": [
    "b=[2,5,6,7]\n",
    "type(b)\n",
    "b[3]=9\n",
    "print(b)"
   ]
  },
  {
   "cell_type": "markdown",
   "id": "81de1b0c-3b05-4c7f-b1ca-761ff04c6731",
   "metadata": {},
   "source": [
    "Here the list data type will be changed but in string it can not be changed"
   ]
  }
 ],
 "metadata": {
  "kernelspec": {
   "display_name": "Python 3 (ipykernel)",
   "language": "python",
   "name": "python3"
  },
  "language_info": {
   "codemirror_mode": {
    "name": "ipython",
    "version": 3
   },
   "file_extension": ".py",
   "mimetype": "text/x-python",
   "name": "python",
   "nbconvert_exporter": "python",
   "pygments_lexer": "ipython3",
   "version": "3.10.8"
  }
 },
 "nbformat": 4,
 "nbformat_minor": 5
}
