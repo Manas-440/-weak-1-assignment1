{
 "cells": [
  {
   "cell_type": "code",
   "execution_count": 6,
   "id": "8cc81bb5-9607-477c-b1a1-7ffc2268d206",
   "metadata": {},
   "outputs": [
    {
     "name": "stdout",
     "output_type": "stream",
     "text": [
      "9\n",
      "<class 'int'>\n",
      "8\n",
      "<class 'int'>\n",
      "6\n",
      "<class 'int'>\n",
      "4\n",
      "<class 'int'>\n",
      "3\n",
      "<class 'int'>\n",
      "raja\n",
      "<class 'str'>\n",
      "priya\n",
      "<class 'str'>\n",
      "2\n",
      "<class 'int'>\n",
      "24\n",
      "<class 'int'>\n"
     ]
    }
   ],
   "source": [
    "a=[9,8,6,4,3,\"raja\",'priya', 2,24,12,13]\n",
    "for i in range(0,9):\n",
    "           print(a[i]) \n",
    "           print(type(a[i])) \n",
    "           i+=1\n",
    "           "
   ]
  },
  {
   "cell_type": "code",
   "execution_count": null,
   "id": "7026d429-5f8b-4b38-b183-b9ebaf5edaa3",
   "metadata": {},
   "outputs": [],
   "source": []
  }
 ],
 "metadata": {
  "kernelspec": {
   "display_name": "Python 3 (ipykernel)",
   "language": "python",
   "name": "python3"
  },
  "language_info": {
   "codemirror_mode": {
    "name": "ipython",
    "version": 3
   },
   "file_extension": ".py",
   "mimetype": "text/x-python",
   "name": "python",
   "nbconvert_exporter": "python",
   "pygments_lexer": "ipython3",
   "version": "3.10.8"
  }
 },
 "nbformat": 4,
 "nbformat_minor": 5
}
