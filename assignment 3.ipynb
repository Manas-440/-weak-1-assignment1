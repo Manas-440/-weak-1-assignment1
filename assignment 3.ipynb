{
 "cells": [
  {
   "cell_type": "code",
   "execution_count": 2,
   "id": "78ff53fa-bbac-4c23-8c5c-2708a40bdb26",
   "metadata": {},
   "outputs": [],
   "source": [
    "a=7\n",
    "b=3"
   ]
  },
  {
   "cell_type": "code",
   "execution_count": 3,
   "id": "d4604584-71ab-4a8d-96d3-617f1a5131fa",
   "metadata": {},
   "outputs": [],
   "source": [
    "# division\n",
    "c=a/b"
   ]
  },
  {
   "cell_type": "code",
   "execution_count": 4,
   "id": "037b61b8-2f6a-4890-af11-629d41649f38",
   "metadata": {},
   "outputs": [
    {
     "name": "stdout",
     "output_type": "stream",
     "text": [
      "2.3333333333333335\n"
     ]
    }
   ],
   "source": [
    "print(c) "
   ]
  },
  {
   "cell_type": "code",
   "execution_count": 5,
   "id": "79be67ea-26d2-4156-95d6-e0a4d2ad228f",
   "metadata": {},
   "outputs": [],
   "source": [
    "# flood\n",
    "c=a//b"
   ]
  },
  {
   "cell_type": "code",
   "execution_count": 6,
   "id": "09c6701a-7ea6-4e74-8ab7-8cdde4073944",
   "metadata": {},
   "outputs": [
    {
     "data": {
      "text/plain": [
       "2"
      ]
     },
     "execution_count": 6,
     "metadata": {},
     "output_type": "execute_result"
    }
   ],
   "source": [
    "c"
   ]
  },
  {
   "cell_type": "code",
   "execution_count": 7,
   "id": "79285859-19ef-48ff-817a-5f3533f23d7d",
   "metadata": {},
   "outputs": [],
   "source": [
    "# exponent\n",
    "c=a**b"
   ]
  },
  {
   "cell_type": "code",
   "execution_count": 8,
   "id": "ce0d9aa1-f7e6-43d2-ab8a-edd9a54a3681",
   "metadata": {},
   "outputs": [
    {
     "data": {
      "text/plain": [
       "343"
      ]
     },
     "execution_count": 8,
     "metadata": {},
     "output_type": "execute_result"
    }
   ],
   "source": [
    "c"
   ]
  },
  {
   "cell_type": "code",
   "execution_count": 9,
   "id": "c6a7f228-0b95-4e01-b5a1-49ff26f3d896",
   "metadata": {},
   "outputs": [],
   "source": [
    "c=a%b"
   ]
  },
  {
   "cell_type": "code",
   "execution_count": 10,
   "id": "6383c52f-73cf-4583-9941-ca8c115478e3",
   "metadata": {},
   "outputs": [
    {
     "data": {
      "text/plain": [
       "1"
      ]
     },
     "execution_count": 10,
     "metadata": {},
     "output_type": "execute_result"
    }
   ],
   "source": [
    "c"
   ]
  },
  {
   "cell_type": "code",
   "execution_count": null,
   "id": "2aa85562-2d21-45d6-aa5f-39f385e9c70a",
   "metadata": {},
   "outputs": [],
   "source": []
  },
  {
   "cell_type": "code",
   "execution_count": null,
   "id": "68f995bb-bb50-4246-9d9e-d1a637499ddc",
   "metadata": {},
   "outputs": [],
   "source": []
  }
 ],
 "metadata": {
  "kernelspec": {
   "display_name": "Python 3 (ipykernel)",
   "language": "python",
   "name": "python3"
  },
  "language_info": {
   "codemirror_mode": {
    "name": "ipython",
    "version": 3
   },
   "file_extension": ".py",
   "mimetype": "text/x-python",
   "name": "python",
   "nbconvert_exporter": "python",
   "pygments_lexer": "ipython3",
   "version": "3.10.8"
  }
 },
 "nbformat": 4,
 "nbformat_minor": 5
}
