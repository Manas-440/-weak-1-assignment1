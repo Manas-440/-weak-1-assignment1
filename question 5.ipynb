{
 "cells": [
  {
   "cell_type": "code",
   "execution_count": 4,
   "id": "840eea6e-da0f-40b2-af77-733f6bec8adc",
   "metadata": {},
   "outputs": [
    {
     "name": "stdout",
     "output_type": "stream",
     "text": [
      "enter dividend\n"
     ]
    },
    {
     "name": "stdin",
     "output_type": "stream",
     "text": [
      " 25\n"
     ]
    },
    {
     "name": "stdout",
     "output_type": "stream",
     "text": [
      "enter divisor\n"
     ]
    },
    {
     "name": "stdin",
     "output_type": "stream",
     "text": [
      " 5\n"
     ]
    },
    {
     "name": "stdout",
     "output_type": "stream",
     "text": [
      "it is divisible by 5\n",
      "factors\n",
      "  1\n",
      "  5\n",
      "  25\n",
      "no of times divide : 3\n"
     ]
    }
   ],
   "source": [
    "print('enter dividend')\n",
    "a=int(input())\n",
    "print('enter divisor')\n",
    "b=int(input())\n",
    "i=0\n",
    "d=0\n",
    "if a>b:\n",
    "    if a%b==0:\n",
    "        print('it is divisible by',b)\n",
    "        print('factors')\n",
    "        while i<a+1:\n",
    "            i=i+1\n",
    "            if a%i==0:\n",
    "                print(' ',i)\n",
    "                d=d+1\n",
    "        print('no of times divide :',d)\n",
    "    else:\n",
    "        print('it is not divisible by',b)\n",
    "else:\n",
    "    print(\"not possible\")"
   ]
  }
 ],
 "metadata": {
  "kernelspec": {
   "display_name": "Python 3 (ipykernel)",
   "language": "python",
   "name": "python3"
  },
  "language_info": {
   "codemirror_mode": {
    "name": "ipython",
    "version": 3
   },
   "file_extension": ".py",
   "mimetype": "text/x-python",
   "name": "python",
   "nbconvert_exporter": "python",
   "pygments_lexer": "ipython3",
   "version": "3.10.8"
  }
 },
 "nbformat": 4,
 "nbformat_minor": 5
}
