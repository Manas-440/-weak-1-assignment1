{
 "cells": [
  {
   "cell_type": "code",
   "execution_count": 6,
   "id": "d6c65430-2bd2-4f74-8ec8-c970f51cb89b",
   "metadata": {},
   "outputs": [
    {
     "name": "stdout",
     "output_type": "stream",
     "text": [
      "<class 'str'>\n"
     ]
    }
   ],
   "source": [
    "var='c'\n",
    "print(type(var)) "
   ]
  },
  {
   "cell_type": "code",
   "execution_count": 4,
   "id": "630e7f86-6ec7-4e33-8395-097371ba6cb4",
   "metadata": {},
   "outputs": [
    {
     "name": "stdout",
     "output_type": "stream",
     "text": [
      "<class 'str'>\n"
     ]
    }
   ],
   "source": [
    "var1='[\"raja\", mahiû]'\n",
    "print(type(var1)) "
   ]
  },
  {
   "cell_type": "code",
   "execution_count": 3,
   "id": "c53c05d6-a80b-46cb-84a1-9ca34868e06d",
   "metadata": {},
   "outputs": [
    {
     "name": "stdout",
     "output_type": "stream",
     "text": [
      "<class 'list'>\n"
     ]
    }
   ],
   "source": [
    "var2=[6, 3]\n",
    "print(type(var2)) "
   ]
  },
  {
   "cell_type": "code",
   "execution_count": 2,
   "id": "628a0916-7b64-4aff-9bb5-211e18009e59",
   "metadata": {},
   "outputs": [
    {
     "name": "stdout",
     "output_type": "stream",
     "text": [
      "<class 'float'>\n"
     ]
    }
   ],
   "source": [
    "var3=1.7\n",
    "print(type(var3)) "
   ]
  },
  {
   "cell_type": "code",
   "execution_count": null,
   "id": "593e48b7-a8a4-4abb-830c-4ad7ef129166",
   "metadata": {},
   "outputs": [],
   "source": []
  }
 ],
 "metadata": {
  "kernelspec": {
   "display_name": "Python 3 (ipykernel)",
   "language": "python",
   "name": "python3"
  },
  "language_info": {
   "codemirror_mode": {
    "name": "ipython",
    "version": 3
   },
   "file_extension": ".py",
   "mimetype": "text/x-python",
   "name": "python",
   "nbconvert_exporter": "python",
   "pygments_lexer": "ipython3",
   "version": "3.10.8"
  }
 },
 "nbformat": 4,
 "nbformat_minor": 5
}
